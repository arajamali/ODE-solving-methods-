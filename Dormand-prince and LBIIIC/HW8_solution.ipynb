{
 "cells": [
  {
   "cell_type": "markdown",
   "metadata": {},
   "source": [
    "# 8.1"
   ]
  },
  {
   "cell_type": "code",
   "execution_count": 45,
   "metadata": {},
   "outputs": [],
   "source": [
    "import numpy as np\n",
    "import matplotlib.pyplot as plt\n",
    "import matplotlib as mpl\n",
    "import numpy as np\n",
    "import scipy.optimize\n",
    "import sympy\n",
    "import matplotlib.pyplot as plt\n",
    "import matplotlib as mpl\n",
    "from scipy import integrate\n",
    "from scipy.interpolate import CubicSpline\n",
    "from scipy.optimize import fsolve\n",
    "import pandas as pd\n",
    "import sympy as sm\n",
    "import mpmath\n"
   ]
  },
  {
   "cell_type": "code",
   "execution_count": 46,
   "metadata": {},
   "outputs": [],
   "source": [
    "def f15(y0,y_prime_0,h):\n",
    "    x=np.arange(0.1,1.5,h)\n",
    "    y=np.zeros(len(x))\n",
    "    y_prime=np.zeros(len(x))\n",
    "    y[0]=y0\n",
    "    y_prime[0]=y_prime_0\n",
    "    for i in range(len(x)-1):\n",
    "        y_prime[i+1]=y_prime[i]+h*(-y_prime[i]+6*x[i]*y[i]+x[i]+np.sin(y[i]))/x[i]\n",
    "        y[i+1]=y[i]+y_prime[i+1]*h\n",
    "    return y_prime[len(x)-1]-1.8"
   ]
  },
  {
   "cell_type": "code",
   "execution_count": 47,
   "metadata": {},
   "outputs": [],
   "source": [
    "def f05(y0,y_prime_0,h):\n",
    "    x=np.arange(0.1,0.5,h)\n",
    "    y=np.zeros(len(x))\n",
    "    y_prime=np.zeros(len(x))\n",
    "    y[0]=y0\n",
    "    y_prime[0]=y_prime_0\n",
    "    for i in range(len(x)-1):\n",
    "        y_prime[i+1]=y_prime[i]+h*(-y_prime[i]+6*x[i]*y[i]+x[i]+np.sin(y[i]))/x[i]\n",
    "        y[i+1]=y[i]+y_prime[i+1]*h\n",
    "    return y[len(x)-1]-1.2"
   ]
  },
  {
   "cell_type": "raw",
   "metadata": {},
   "source": [
    "These twofunctions are made to use, (later), as two Non-linear equations to be solved to find the initial conditions. Two equations and two unknowns"
   ]
  },
  {
   "cell_type": "code",
   "execution_count": 48,
   "metadata": {},
   "outputs": [],
   "source": [
    "def jacobian(f,x):\n",
    "    '''f is list of function\\nx is list of points to calculate jacobian'''\n",
    "    eps = 1e-8\n",
    "    N = len(f)\n",
    "    J = np.zeros([N,N])\n",
    "    for i in range(N):\n",
    "        for j in range(N):\n",
    "            x_plus = x.copy()\n",
    "            x_minus = x.copy()\n",
    "            x_plus[j] = x_plus[j] + eps\n",
    "            x_minus[j] = x_minus[j] - eps\n",
    "            J[i,j] = (f[i](*x_plus) - f[i](*x_minus))/eps * 0.5\n",
    "    return J"
   ]
  },
  {
   "cell_type": "code",
   "execution_count": 49,
   "metadata": {},
   "outputs": [],
   "source": [
    "def user_gaussian_solve_pp(a,b):\n",
    "    A = np.hstack((a,b))\n",
    "    N = A.shape[0]\n",
    "    for k in range(N-1):\n",
    "        maxidx = np.abs(A[k:,k]).argmax() + k #get index of the max arg\n",
    "        # +k is needed, because, argmax restart at 0 for the new slice\n",
    "        if k != maxidx:\n",
    "            A[[k,maxidx]] = A[[maxidx, k]]\n",
    "        for i in range(k+1, N):\n",
    "            r = -A[i,k] / A[k,k]\n",
    "            for j in range(k+1, N+1):\n",
    "                A[i,j] = A[i,j] + r * A[k,j]\n",
    "\n",
    "    A[N-1,N] = A[N-1,-1] / A[N-1, -2]\n",
    "    for i in range(N-2, -1, -1): #2, 1, 0\n",
    "        sum = 0\n",
    "        for j in range(i+1, N): #i+1 to N-1\n",
    "            sum = sum + A[i,j] * A[j,N]\n",
    "        A[i,N] = (A[i,N] - sum)/A[i,i]\n",
    "    return A[:,N][:,np.newaxis]"
   ]
  },
  {
   "cell_type": "code",
   "execution_count": 50,
   "metadata": {},
   "outputs": [],
   "source": [
    "def newton_jacobian(f,x0, print_option = False, print_option2 = True):\n",
    "    \"\"\"f is list of function, x is list of initial guess value\"\"\"\n",
    "    norm = 1\n",
    "    maxitx = 100\n",
    "    eps = 1e-8\n",
    "    x = x0.copy()\n",
    "    for k in range(maxitx):\n",
    "        if print_option:\n",
    "            print(x)\n",
    "        jac_np = jacobian(f,x)\n",
    "        minus_f = np.array([- f[i](*x) for i in range(len(f))])[:,np.newaxis]\n",
    "        delta_x_np = user_gaussian_solve_pp(jac_np,minus_f)\n",
    "        if np.linalg.norm(delta_x_np) < eps:\n",
    "            break\n",
    "        x = [x[i] + delta_x_np.reshape((1,-1))[0].tolist()[i] for i in range(len(f))]\n",
    "        \n",
    "    if print_option2:\n",
    "        print('number of iteration = ',k+1)\n",
    "    return x"
   ]
  },
  {
   "cell_type": "code",
   "execution_count": 51,
   "metadata": {},
   "outputs": [
    {
     "name": "stdout",
     "output_type": "stream",
     "text": [
      "number of iteration =  6\n"
     ]
    }
   ],
   "source": [
    "h=0.001\n",
    "y0,y_prime_0 = sympy.symbols('y0,y_prime_0')\n",
    "f=[]\n",
    "f.append(lambda y0,y_prime_0: f05(y0,y_prime_0,h))\n",
    "f.append(lambda y0,y_prime_0: f15(y0,y_prime_0,h))\n",
    "ans = newton_jacobian(f,[0,1])"
   ]
  },
  {
   "cell_type": "code",
   "execution_count": 52,
   "metadata": {},
   "outputs": [
    {
     "data": {
      "text/plain": [
       "[6.695990774897926, -41.29252382722291]"
      ]
     },
     "execution_count": 52,
     "metadata": {},
     "output_type": "execute_result"
    }
   ],
   "source": [
    "f15(ans[0],ans[1],h)\n",
    "ans"
   ]
  },
  {
   "cell_type": "code",
   "execution_count": 53,
   "metadata": {},
   "outputs": [
    {
     "data": {
      "text/plain": [
       "2.1370683001009638e-11"
      ]
     },
     "execution_count": 53,
     "metadata": {},
     "output_type": "execute_result"
    }
   ],
   "source": [
    "f05(ans[0],ans[1],h)"
   ]
  },
  {
   "cell_type": "code",
   "execution_count": 54,
   "metadata": {},
   "outputs": [
    {
     "name": "stdout",
     "output_type": "stream",
     "text": [
      "number of iteration =  8\n",
      "number of iteration =  6\n"
     ]
    },
    {
     "data": {
      "text/plain": [
       "<matplotlib.legend.Legend at 0x2b70bf9ed68>"
      ]
     },
     "execution_count": 54,
     "metadata": {},
     "output_type": "execute_result"
    },
    {
     "data": {
      "image/png": "[encoded data removed]",
      "text/plain": [
       "<Figure size 432x288 with 1 Axes>"
      ]
     },
     "metadata": {},
     "output_type": "display_data"
    }
   ],
   "source": [
    "h=0.099\n",
    "y0,y_prime_0 = sympy.symbols('y0,y_prime_0')\n",
    "f=[]\n",
    "f.append(lambda y0,y_prime_0: f05(y0,y_prime_0,h))\n",
    "f.append(lambda y0,y_prime_0: f15(y0,y_prime_0,h))\n",
    "ans = newton_jacobian(f,[0,1])\n",
    "x=np.arange(0.1,1.9,h)\n",
    "y=np.zeros(len(x))\n",
    "B=np.zeros(len(x))\n",
    "y_prime=np.zeros(len(x))\n",
    "y[0]=ans[0]\n",
    "y_prime[0]=ans[1]\n",
    "B[0]=y[0]\n",
    "for i in range(len(x)-1):\n",
    "    y_prime[i+1]=y_prime[i]+h*(-y_prime[i]+6*x[i]*y[i]+x[i]+np.sin(y[i]))/x[i]\n",
    "    y[i+1]=y[i]+y_prime[i+1]*h\n",
    "    B[i+1]=y[i+1]\n",
    "xUh_large=x\n",
    "yUh_large=B\n",
    "plt.plot(x,B, 'ro', label=\"0.01\")\n",
    "plt.legend()\n",
    "\n",
    "h0=0.0001\n",
    "y00,y_prime_00 = sympy.symbols('y0,y_prime_0')\n",
    "f0=[]\n",
    "f0.append(lambda y00,y_prime_00: f05(y00,y_prime_00,h0))\n",
    "f0.append(lambda y00,y_prime_00: f15(y00,y_prime_00,h0))\n",
    "ans0 = newton_jacobian(f0,[0,1])\n",
    "x0=np.arange(0.1,1.9,h0)\n",
    "y0=np.zeros(len(x0))\n",
    "y_prime0=np.zeros(len(x0))\n",
    "y0[0]=ans0[0]\n",
    "y_prime0[0]=ans0[1]\n",
    "for i in range(len(x0)-1):\n",
    "    y_prime0[i+1]=y_prime0[i]+h0*(-y_prime0[i]+6*x0[i]*y0[i]+x0[i]+np.sin(y0[i]))/x0[i]\n",
    "    y0[i+1]=y0[i]+y_prime0[i+1]*h0  \n",
    "xUh_small=x0\n",
    "yUh_small=y0\n",
    "plt.plot(x0,y0, '-b', label=\"h=0.0001\")\n",
    "plt.legend()"
   ]
  },
  {
   "cell_type": "raw",
   "metadata": {},
   "source": [
    "After adjusting the initial conditions, the graph is plotted for two different intervals"
   ]
  },
  {
   "cell_type": "markdown",
   "metadata": {},
   "source": [
    "# 8.2"
   ]
  },
  {
   "cell_type": "code",
   "execution_count": 55,
   "metadata": {},
   "outputs": [
    {
     "name": "stdout",
     "output_type": "stream",
     "text": [
      "number of iteration =  6\n"
     ]
    },
    {
     "data": {
      "text/plain": [
       "array([0.97325656, 2.50750035])"
      ]
     },
     "execution_count": 55,
     "metadata": {},
     "output_type": "execute_result"
    }
   ],
   "source": [
    "h=0.001\n",
    "y0,y_prime_0 = sympy.symbols('y0,y_prime_0')\n",
    "f=[]\n",
    "f.append(lambda y0,y_prime_0: f05(y0,y_prime_0,h))\n",
    "f.append(lambda y0,y_prime_0: f15(y0,y_prime_0,h))\n",
    "ans = newton_jacobian(f,[0,1])\n",
    "sol2 = []\n",
    "def solout2(t,y):\n",
    "    sol2.append([t,*y])\n",
    "    return None\n",
    "q82 = lambda x,y: [y[1], (-y[1]+6*x*y[0]+x+np.sin(y[0]))/x]\n",
    "q2_ode = integrate.ode(q82)\n",
    "q2_ode.set_integrator('dopri5')\n",
    "q2_ode.set_initial_value([ans[0],ans[1]],0.1)\n",
    "q2_ode.set_solout(solout2)\n",
    "q2_ode.integrate(2)"
   ]
  },
  {
   "cell_type": "code",
   "execution_count": 56,
   "metadata": {},
   "outputs": [
    {
     "data": {
      "image/png": "[encoded data removed]",
      "text/plain": [
       "<Figure size 432x288 with 1 Axes>"
      ]
     },
     "metadata": {},
     "output_type": "display_data"
    }
   ],
   "source": [
    "sol2np = np.array(sol2)\n",
    "plt.plot(sol2np[:,0],sol2np[:,1],'or',label = 'dopri5')\n",
    "plt.xlabel('x')\n",
    "plt.ylabel('y')\n",
    "plt.legend()\n",
    "plt.show()"
   ]
  },
  {
   "cell_type": "raw",
   "metadata": {},
   "source": [
    "I made two finctions and make tthe initial values the unknowns and solved it by newton jacobian to find the correct initial values based on the given informatino"
   ]
  },
  {
   "cell_type": "code",
   "execution_count": 57,
   "metadata": {},
   "outputs": [],
   "source": [
    "def solout2(t,y):\n",
    "    sol2.append([t,*y])\n",
    "    return None\n",
    "def f15D(y0,y_prime_0):\n",
    "    q82 = lambda x,y: [y[1], (-y[1]+6*x*y[0]+x+np.sin(y[0]))/x]\n",
    "    q2_ode = integrate.ode(q82)\n",
    "    q2_ode.set_integrator('dopri5')\n",
    "    q2_ode.set_initial_value([y0,y_prime_0],0.1)\n",
    "    q2_ode.set_solout(solout2)\n",
    "    q2_ode.integrate(1.5)\n",
    "    sol2np = np.array(sol2)\n",
    "    return (sol2np[len(sol2np)-1,1]-sol2np[len(sol2np)-2,1])/(sol2np[len(sol2np)-1,0]-sol2np[len(sol2np)-2,0])-1.8\n",
    "\n",
    "def f05D(y0,y_prime_0):\n",
    "    q82 = lambda x,y: [y[1], (-y[1]+6*x*y[0]+x+np.sin(y[0]))/x]\n",
    "    q2_ode = integrate.ode(q82)\n",
    "    q2_ode.set_integrator('dopri5')\n",
    "    q2_ode.set_initial_value([y0,y_prime_0],0.1)\n",
    "    q2_ode.set_solout(solout2)\n",
    "    q2_ode.integrate(0.5)\n",
    "    sol2np = np.array(sol2)\n",
    "    return sol2np[len(sol2np)-1,1]-1.2"
   ]
  },
  {
   "cell_type": "code",
   "execution_count": 58,
   "metadata": {},
   "outputs": [
    {
     "name": "stdout",
     "output_type": "stream",
     "text": [
      "number of iteration =  9\n"
     ]
    }
   ],
   "source": [
    "h=0.01\n",
    "y0,y_prime_0 = sympy.symbols('y0,y_prime_0')\n",
    "f=[]\n",
    "f.append(lambda y0,y_prime_0: f05D(y0,y_prime_0))\n",
    "f.append(lambda y0,y_prime_0: f15D(y0,y_prime_0))\n",
    "ans = newton_jacobian(f,[0,1])"
   ]
  },
  {
   "cell_type": "code",
   "execution_count": 59,
   "metadata": {},
   "outputs": [
    {
     "data": {
      "text/plain": [
       "8.480327551296796e-12"
      ]
     },
     "execution_count": 59,
     "metadata": {},
     "output_type": "execute_result"
    }
   ],
   "source": [
    "f15D(ans[0],ans[1])"
   ]
  },
  {
   "cell_type": "code",
   "execution_count": 60,
   "metadata": {},
   "outputs": [
    {
     "data": {
      "text/plain": [
       "0.0"
      ]
     },
     "execution_count": 60,
     "metadata": {},
     "output_type": "execute_result"
    }
   ],
   "source": [
    "f05D(ans[0],ans[1])"
   ]
  },
  {
   "cell_type": "code",
   "execution_count": 61,
   "metadata": {},
   "outputs": [
    {
     "data": {
      "text/plain": [
       "array([2.27270182, 5.36218203])"
      ]
     },
     "execution_count": 61,
     "metadata": {},
     "output_type": "execute_result"
    }
   ],
   "source": [
    "sol2=[]\n",
    "def solout2(t,y):\n",
    "    sol2.append([t,*y])\n",
    "    return None\n",
    "q82 = lambda x,y: [y[1], (-y[1]+6*x*y[0]+x+np.sin(y[0]))/x]\n",
    "q2_ode = integrate.ode(q82)\n",
    "q2_ode.set_integrator('dopri5')\n",
    "q2_ode.set_initial_value([ans[0],ans[1]],0.1)\n",
    "q2_ode.set_solout(solout2)\n",
    "q2_ode.integrate(1.9)\n",
    "\n"
   ]
  },
  {
   "cell_type": "code",
   "execution_count": 62,
   "metadata": {},
   "outputs": [
    {
     "data": {
      "image/png": "[encoded data removed]",
      "text/plain": [
       "<Figure size 432x288 with 1 Axes>"
      ]
     },
     "metadata": {},
     "output_type": "display_data"
    }
   ],
   "source": [
    "sol2np = np.array(sol2)\n",
    "xD=sol2np[:,0]\n",
    "yD=sol2np[:,1]\n",
    "plt.plot(sol2np[:,0],sol2np[:,1],'or',label = 'dopri5')\n",
    "plt.xlabel('x')\n",
    "plt.ylabel('y')\n",
    "plt.plot(x,B, '--ob', label=\"h=0.099, EU\")\n",
    "plt.legend()\n",
    "plt.show()"
   ]
  },
  {
   "cell_type": "markdown",
   "metadata": {},
   "source": [
    "# 8.3"
   ]
  },
  {
   "cell_type": "code",
   "execution_count": 63,
   "metadata": {},
   "outputs": [],
   "source": [
    "def LobattoIIIC_many(fn = lambda x,y: np.array([y[1], (-y[1]+6*x*y[0]+x+np.sin(y[0]))/x]),\n",
    "                ic = [ans[0],ans[1]], a = 0.1, b = 1.9, h = 0.1):\n",
    "    \n",
    "    def fn_LIIIC(k,x0,y0,h):\n",
    "        \"\"\"This is function to be used in LobattoIIIC\"\"\"\n",
    "        k = k.reshape(3,-1)\n",
    "        k1 = k[0]\n",
    "        k2 = k[1]\n",
    "        k3 = k[2]\n",
    "\n",
    "        #instead of append, make 4 by n array. Output the flatten f\n",
    "        f = np.array([(k1-fn(x0,y0 + h*(1/6*k1 - 1/3*k2\n",
    "            + 1/6*k3)))])\n",
    "        f = np.r_[f,[(k2-fn(x0 + 0.5*h, y0 + h*(1/6*k1 \n",
    "            + 5/12*k2 - 1/12*k3)))]]\n",
    "        f = np.r_[f,[(k3-fn(x0 + 1*h, y0 + h*(1/6*k1 \n",
    "            + 2/3*k2 + 1/6*k3)))]]\n",
    "        return f.reshape(-1)\n",
    "   \n",
    "    n = int(np.abs((a-b)/h)) #number of interval\n",
    "    n = int(np.abs((b-a)/h)) #number of interval\n",
    "    y = np.array([ic])\n",
    "    x = np.linspace(a,b,n+1)\n",
    "    #initial guess\n",
    "    k1 = y\n",
    "    k2 = y\n",
    "    k3 = y\n",
    "    for i in range(n):\n",
    "        yi = y[i]\n",
    "        xi = x[i]\n",
    "        #send horizontal vector to fsolve\n",
    "        k_ans = fsolve(fn_LIIIC,\n",
    "            np.r_[k1,k2,k3].reshape(-1), args=(xi,yi,h))\n",
    "        k1,k2,k3 = k_ans.reshape(3,-1)\n",
    "        y_next = yi + h*(1/6*k1 + 2/3*k2 + 1/6*k3)\n",
    "        y = np.r_[y,[y_next]]\n",
    "    return x,y"
   ]
  },
  {
   "cell_type": "code",
   "execution_count": 64,
   "metadata": {},
   "outputs": [],
   "source": [
    "x3_LIIIC_many, y3_LIIIC_many=LobattoIIIC_many(b = 1.9, ic = [ans[0],ans[1]])"
   ]
  },
  {
   "cell_type": "code",
   "execution_count": 65,
   "metadata": {
    "scrolled": true
   },
   "outputs": [
    {
     "data": {
      "text/plain": [
       "[<matplotlib.lines.Line2D at 0x2b70c060a58>]"
      ]
     },
     "execution_count": 65,
     "metadata": {},
     "output_type": "execute_result"
    },
    {
     "data": {
      "image/png": "[encoded data removed]",
      "text/plain": [
       "<Figure size 432x288 with 1 Axes>"
      ]
     },
     "metadata": {},
     "output_type": "display_data"
    }
   ],
   "source": [
    "plt.plot(x3_LIIIC_many,y3_LIIIC_many[:,0],'bo')\n",
    "plt.plot(x,B, '--', label=\"h=0.099, EU\")"
   ]
  },
  {
   "cell_type": "raw",
   "metadata": {},
   "source": [
    "It is shown that with the previously calculated initial values the asnwer is far off. So it is neccessory to recalculate them for the new method. As follows:\n"
   ]
  },
  {
   "cell_type": "markdown",
   "metadata": {},
   "source": [
    "# h=0.1"
   ]
  },
  {
   "cell_type": "code",
   "execution_count": 66,
   "metadata": {},
   "outputs": [],
   "source": [
    "def f15L(y0,y_prime_0):\n",
    "    x3_LIIIC_many, y3_LIIIC_many=LobattoIIIC_many(fn = lambda x,y: np.array([y[1], (-y[1]+6*x*y[0]+x+np.sin(y[0]))/x]),\n",
    "                ic = [y0,y_prime_0], a = 0.1, b = 1.5, h = 0.1)\n",
    "    return (y3_LIIIC_many[len(x3_LIIIC_many)-1,0]-y3_LIIIC_many[len(x3_LIIIC_many)-2,0])/(x3_LIIIC_many[len(x3_LIIIC_many)-1]-x3_LIIIC_many[len(x3_LIIIC_many)-2])-1.8\n",
    "    #return 2\n",
    "def f05L(y0,y_prime_0):\n",
    "    x3_LIIIC_many, y3_LIIIC_many=LobattoIIIC_many(fn = lambda x,y: np.array([y[1], (-y[1]+6*x*y[0]+x+np.sin(y[0]))/x]),\n",
    "                ic = [y0,y_prime_0], a = 0.1, b = 0.5, h = 0.1)\n",
    "    return y3_LIIIC_many[len(x3_LIIIC_many)-1,0]-1.2"
   ]
  },
  {
   "cell_type": "code",
   "execution_count": 67,
   "metadata": {},
   "outputs": [
    {
     "data": {
      "text/plain": [
       "-1.6757101610072545"
      ]
     },
     "execution_count": 67,
     "metadata": {},
     "output_type": "execute_result"
    }
   ],
   "source": [
    "f15L(ans[0],ans[1])"
   ]
  },
  {
   "cell_type": "code",
   "execution_count": 68,
   "metadata": {},
   "outputs": [
    {
     "data": {
      "text/plain": [
       "0.007399758123227018"
      ]
     },
     "execution_count": 68,
     "metadata": {},
     "output_type": "execute_result"
    }
   ],
   "source": [
    "f05L(ans[0],ans[1])"
   ]
  },
  {
   "cell_type": "code",
   "execution_count": 69,
   "metadata": {},
   "outputs": [
    {
     "name": "stdout",
     "output_type": "stream",
     "text": [
      "number of iteration =  6\n"
     ]
    }
   ],
   "source": [
    "y0,y_prime_0 = sympy.symbols('y0,y_prime_0')\n",
    "f=[]\n",
    "f.append(lambda y0,y_prime_0: f05L(y0,y_prime_0))\n",
    "f.append(lambda y0,y_prime_0: f15L(y0,y_prime_0))\n",
    "ans = newton_jacobian(f,[0,1])"
   ]
  },
  {
   "cell_type": "code",
   "execution_count": 70,
   "metadata": {},
   "outputs": [
    {
     "data": {
      "text/plain": [
       "9.917111576385196e-11"
      ]
     },
     "execution_count": 70,
     "metadata": {},
     "output_type": "execute_result"
    }
   ],
   "source": [
    "f05L(ans[0],ans[1])\n"
   ]
  },
  {
   "cell_type": "code",
   "execution_count": 71,
   "metadata": {},
   "outputs": [
    {
     "data": {
      "text/plain": [
       "1.23186993938873e-09"
      ]
     },
     "execution_count": 71,
     "metadata": {},
     "output_type": "execute_result"
    }
   ],
   "source": [
    "f15L(ans[0],ans[1])"
   ]
  },
  {
   "cell_type": "code",
   "execution_count": 72,
   "metadata": {},
   "outputs": [
    {
     "data": {
      "image/png": "[encoded data removed]",
      "text/plain": [
       "<Figure size 432x288 with 1 Axes>"
      ]
     },
     "metadata": {},
     "output_type": "display_data"
    }
   ],
   "source": [
    "x3_LIIIC_many, y3_LIIIC_many=LobattoIIIC_many(b = 1.9, ic = [ans[0],ans[1]])\n",
    "plt.plot(x3_LIIIC_many,y3_LIIIC_many[:,0],'bo')\n",
    "plt.plot(x,B, '--', label=\"h=0.099, EU\")\n",
    "xLh_large=x3_LIIIC_many\n",
    "yLh_large=y3_LIIIC_many[:,0]"
   ]
  },
  {
   "cell_type": "markdown",
   "metadata": {},
   "source": [
    "# h=0.001"
   ]
  },
  {
   "cell_type": "code",
   "execution_count": 73,
   "metadata": {},
   "outputs": [],
   "source": [
    "def f15Lh(y0,y_prime_0):\n",
    "    x3_LIIIC_many, y3_LIIIC_many=LobattoIIIC_many(fn = lambda x,y: np.array([y[1], (-y[1]+6*x*y[0]+x+np.sin(y[0]))/x]),\n",
    "                ic = [y0,y_prime_0], a = 0.1, b = 1.5, h = 0.001)\n",
    "    return (y3_LIIIC_many[len(x3_LIIIC_many)-1,0]-y3_LIIIC_many[len(x3_LIIIC_many)-2,0])/(x3_LIIIC_many[len(x3_LIIIC_many)-1]-x3_LIIIC_many[len(x3_LIIIC_many)-2])-1.8\n",
    "    #return 2\n",
    "def f05Lh(y0,y_prime_0):\n",
    "    x3_LIIIC_many, y3_LIIIC_many=LobattoIIIC_many(fn = lambda x,y: np.array([y[1], (-y[1]+6*x*y[0]+x+np.sin(y[0]))/x]),\n",
    "                ic = [y0,y_prime_0], a = 0.1, b = 0.5, h = 0.001)\n",
    "    return y3_LIIIC_many[len(x3_LIIIC_many)-1,0]-1.2"
   ]
  },
  {
   "cell_type": "code",
   "execution_count": 74,
   "metadata": {},
   "outputs": [
    {
     "name": "stdout",
     "output_type": "stream",
     "text": [
      "number of iteration =  6\n"
     ]
    }
   ],
   "source": [
    "y0,y_prime_0 = sympy.symbols('y0,y_prime_0')\n",
    "f=[]\n",
    "f.append(lambda y0,y_prime_0: f05Lh(y0,y_prime_0))\n",
    "f.append(lambda y0,y_prime_0: f15Lh(y0,y_prime_0))\n",
    "ans = newton_jacobian(f,[0,1])"
   ]
  },
  {
   "cell_type": "code",
   "execution_count": 75,
   "metadata": {},
   "outputs": [
    {
     "data": {
      "image/png": "[encoded data removed]",
      "text/plain": [
       "<Figure size 432x288 with 1 Axes>"
      ]
     },
     "metadata": {},
     "output_type": "display_data"
    }
   ],
   "source": [
    "x3_LIIIC_many, y3_LIIIC_many=LobattoIIIC_many(fn = lambda x,y: np.array([y[1], (-y[1]+6*x*y[0]+x+np.sin(y[0]))/x]),\n",
    "                ic = [ans[0],ans[1]], a = 0.1, b = 1.9, h = 0.01)\n",
    "plt.plot(x3_LIIIC_many,y3_LIIIC_many[:,0],'bo')\n",
    "plt.plot(x,B, '--r', label=\"h=0.099, EU\")\n",
    "xLh_small=x3_LIIIC_many\n",
    "yLh_small=y3_LIIIC_many[:,0]"
   ]
  },
  {
   "cell_type": "markdown",
   "metadata": {},
   "source": [
    "# 8.4"
   ]
  },
  {
   "cell_type": "code",
   "execution_count": 78,
   "metadata": {},
   "outputs": [
    {
     "data": {
      "image/png": "[encoded data removed]",
      "text/plain": [
       "<Figure size 432x288 with 1 Axes>"
      ]
     },
     "metadata": {},
     "output_type": "display_data"
    }
   ],
   "source": [
    "plt.plot(xUh_small,yUh_small,label = 'U,h=0.001')\n",
    "plt.xlabel('x')\n",
    "plt.ylabel('y')\n",
    "plt.plot(xUh_large,yUh_large,label = 'U,h=0.1')\n",
    "plt.plot(xD,yD,label = 'D')\n",
    "plt.plot(xLh_large,yLh_large,label = 'L,h=0.1')\n",
    "plt.plot(xLh_small,yLh_small,label = 'L,h=0.001')\n",
    "plt.legend()\n",
    "plt.show()"
   ]
  },
  {
   "cell_type": "raw",
   "metadata": {},
   "source": [
    "Since, Domain Prince choose the step size automatically, I just plot it once"
   ]
  },
  {
   "cell_type": "code",
   "execution_count": null,
   "metadata": {},
   "outputs": [],
   "source": []
  },
  {
   "cell_type": "code",
   "execution_count": null,
   "metadata": {},
   "outputs": [],
   "source": []
  }
 ],
 "metadata": {
  "kernelspec": {
   "display_name": "Python 3",
   "language": "python",
   "name": "python3"
  },
  "language_info": {
   "codemirror_mode": {
    "name": "ipython",
    "version": 3
   },
   "file_extension": ".py",
   "mimetype": "text/x-python",
   "name": "python",
   "nbconvert_exporter": "python",
   "pygments_lexer": "ipython3",
   "version": "3.6.5"
  }
 },
 "nbformat": 4,
 "nbformat_minor": 2
}
